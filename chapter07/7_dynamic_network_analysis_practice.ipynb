{
 "cells": [
  {
   "cell_type": "markdown",
   "metadata": {},
   "source": [
    "<a href=\"https://colab.research.google.com/github/digitalhumanitiestextbook/dhtextbook/blob/main/chapter07/7_dynamic_network_analysis_practice.ipynb\" target=\"_parent\">\n",
    "  <img src=\"https://colab.research.google.com/assets/colab-badge.svg\" alt=\"Open In Colab\"/>\n",
    "</a>"
   ]
  },
  {
   "cell_type": "markdown",
   "metadata": {},
   "source": [
    "## 연습 데이터 준비 방법\n",
    "\n",
    "- 연습문제를 실행하기 전에 **CSV 파일을 지정된 양식에 맞게 작성**해야 합니다.  \n",
    "- **구텐베르크(Project Gutenberg)** 와 같은 공공 데이터베이스에서 텍스트 파일을 다운로드한 후, 제공된 **샘플 CSV 파일과 동일한 형식**으로 데이터를 정제하면 됩니다.  \n",
    "- CSV 파일의 양식은 아래 코드 블록을 통해 확인할 수 있으며, 코드를 실행하면 **샘플 데이터**가 다운로드됩니다.  \n",
    "- 파일을 다운로드하여 기존 내용을 삭제하고 형식에 맞게 데이터를 완성한 뒤, 두 번째 코드 블록을 실행하고 **\"파일 선택\" 버튼**을 눌러 작성한 CSV 파일을 업로드하면 됩니다.  \n",
    "\n",
    "### CSV 파일의 컬럼 정보\n",
    "- **quoteText**: 추출된 대화문 (type: `string`)  \n",
    "- **Timestamp**: 대화가 발생한 서사적 위치(챕터 단위) (type: `number`)  \n",
    "- **speaker**: 발화자 (type: `string`)  \n",
    "- **addressees**: 대상자 (type: `List<string>`)  "
   ]
  },
  {
   "cell_type": "code",
   "execution_count": null,
   "metadata": {},
   "outputs": [],
   "source": [
    "import os\n",
    "import requests\n",
    "import pandas as pd\n",
    "from google.colab import files\n",
    "\n",
    "file_path = \"quotation_info_sample.csv\"\n",
    "url = \"https://raw.githubusercontent.com/digitalhumanitiestextbook/dhtextbook/main/chapter07/input/quotation_info_sample.csv\"\n",
    "\n",
    "# quotation_info_sample.csv 파일이 없으면 다운로드\n",
    "if not os.path.exists(file_path):\n",
    "    response = requests.get(url)\n",
    "    response.raise_for_status()  # 오류 발생시 예외처리\n",
    "    with open(file_path, \"wb\") as f:\n",
    "        f.write(response.content)\n",
    "    print(f\"다운로드 완료: {file_path}\")\n",
    "else:\n",
    "    print(f\"이미 존재함: {file_path}\")\n",
    "\n",
    "files.download(file_path)\n",
    "sample_data = pd.read_csv(file_path)\n",
    "sample_data"
   ]
  },
  {
   "cell_type": "markdown",
   "metadata": {},
   "source": [
    "- 아래 코드를 실행한 후 나타나는 \"파일 선택\" 버튼을 클릭하여, 완성한 CSV 파일을 업로드하세요."
   ]
  },
  {
   "cell_type": "code",
   "execution_count": null,
   "metadata": {},
   "outputs": [],
   "source": [
    "from google.colab import files\n",
    "import pandas as pd\n",
    "\n",
    "# 파일 업로드\n",
    "uploaded = files.upload()\n",
    "\n",
    "# 업로드한 파일 경로 가져오기\n",
    "file_path = list(uploaded.keys())[0]\n",
    "\n",
    "# 파일 확장자 확인\n",
    "if not file_path.lower().endswith(\".csv\"):\n",
    "    raise ValueError(\"요구되는 파일형식과 다릅니다. 파일을 수정 후 다시 업로드 해주세요.\")\n",
    "\n",
    "# 데이터 로드\n",
    "data = pd.read_csv(file_path)\n",
    "\n",
    "# 필요한 컬럼 목록\n",
    "required_columns = {\"quoteText\", \"Timestamp\", \"speaker\", \"addressees\"}\n",
    "\n",
    "# 누락된 컬럼 확인\n",
    "missing_columns = required_columns - set(data.columns)\n",
    "\n",
    "if missing_columns:\n",
    "    raise ValueError(\n",
    "        f\"요구되는 파일형식과 다릅니다. 파일의 컬럼을 확인한 후 다시 업로드 해주세요.\\n\"\n",
    "        f\"필수 컬럼: {required_columns}\\n\"\n",
    "        f\"누락된 컬럼: {missing_columns}\"\n",
    "    )"
   ]
  },
  {
   "cell_type": "markdown",
   "metadata": {
    "id": "ceTsGicbel5d"
   },
   "source": [
    "# 데이터 수집 방법"
   ]
  },
  {
   "cell_type": "code",
   "execution_count": null,
   "metadata": {
    "colab": {
     "base_uri": "https://localhost:8080/",
     "height": 404
    },
    "executionInfo": {
     "elapsed": 201916,
     "status": "error",
     "timestamp": 1752730950610,
     "user": {
      "displayName": "김형래",
      "userId": "08304981766189267720"
     },
     "user_tz": -540
    },
    "id": "vMnx_ojfelN0",
    "outputId": "1c924b9b-e1ab-432e-f94e-6b175a4e4e28"
   },
   "outputs": [
    {
     "name": "stderr",
     "output_type": "stream",
     "text": [
      "[nltk_data] Downloading package vader_lexicon to\n",
      "[nltk_data]     /Users/hyeongraekim/nltk_data...\n",
      "[nltk_data]   Package vader_lexicon is already up-to-date!\n"
     ]
    }
   ],
   "source": [
    "# 필요 라이브러리 설치 및 로드\n",
    "import pandas as pd\n",
    "import nltk\n",
    "from nltk.sentiment import SentimentIntensityAnalyzer\n",
    "import ast\n",
    "\n",
    "# NLTK 감정 분석기 다운로드\n",
    "nltk.download('vader_lexicon')\n",
    "\n",
    "# 단어 수 계산\n",
    "data['word_count'] = data['quoteText'].astype(str).apply(lambda x: len(x.split()))\n",
    "\n",
    "# VADER 감정 분석기 초기화\n",
    "sia = SentimentIntensityAnalyzer()\n",
    "\n",
    "# 감정 점수 계산 (Compound Score 사용)\n",
    "data['sentiment'] = data['quoteText'].astype(str).apply(lambda x: sia.polarity_scores(x)['compound'])\n",
    "\n",
    "# addressees 필드 문자열을 리스트로 변환\n",
    "data['addressees'] = data['addressees'].apply(ast.literal_eval)\n",
    "\n",
    "# 처리된 데이터 저장\n",
    "processed_file_path = \"processed_data.csv\"\n",
    "data.to_csv(processed_file_path, index=False)"
   ]
  },
  {
   "cell_type": "code",
   "execution_count": null,
   "metadata": {},
   "outputs": [],
   "source": [
    "# Google Colab 환경에서 생성된 CSV 파일을 로컬로 다운로드\n",
    "from google.colab import files\n",
    "\n",
    "files.download(processed_file_path)"
   ]
  },
  {
   "cell_type": "markdown",
   "metadata": {
    "id": "UfHglsRwfK1e"
   },
   "source": [
    "# 노드와 에지 데이터 생성"
   ]
  },
  {
   "cell_type": "code",
   "execution_count": null,
   "metadata": {
    "colab": {
     "base_uri": "https://localhost:8080/",
     "height": 74
    },
    "id": "GC0y6cluiS2x",
    "outputId": "5919fc94-7c4a-4112-d5ee-ad27353b559c"
   },
   "outputs": [],
   "source": [
    "# 데이터 로드\n",
    "data = pd.read_csv(processed_file_path)\n",
    "\n",
    "# 'addressees' 컬럼이 문자열로 저장되어 있을 경우 리스트로 변환\n",
    "if isinstance(data['addressees'][0], str):\n",
    "    data['addressees'] = data['addressees'].apply(ast.literal_eval)\n",
    "\n",
    "# 노드 생성: 등장인물 목록 추출\n",
    "all_characters = set(data['speaker'].unique())  # 발화자로 등장한 인물\n",
    "for addressees in data['addressees']:\n",
    "    all_characters.update(addressees)  # 대상자로 등장한 인물도 추가\n",
    "\n",
    "# 노드 속성 생성 (대화량, 감정 점수 평균)\n",
    "nodes_data = pd.DataFrame({'node_name': list(all_characters)})\n",
    "\n",
    "# 발화자 기준 대화량 합산\n",
    "nodes_data['total_word_count'] = nodes_data['node_name'].apply(\n",
    "    lambda x: data[data['speaker'] == x]['word_count'].sum() if x in data['speaker'].values else 0\n",
    ")\n",
    "\n",
    "# 발화자 기준 감정 점수 평균\n",
    "nodes_data['average_sentiment'] = nodes_data['node_name'].apply(\n",
    "    lambda x: data[data['speaker'] == x]['sentiment'].mean() if x in data['speaker'].values else 0\n",
    ")\n",
    "\n",
    "# 에지 생성 (발화자-대상자 관계)\n",
    "edge_list = []\n",
    "for _, row in data.iterrows():\n",
    "    speaker = row['speaker'] # 발화자\n",
    "    word_count = row['word_count'] # 단어 수\n",
    "    sentiment = row['sentiment'] # 감정 점수\n",
    "    addressees = row['addressees'] # 대상자 (리스트 형태)\n",
    "\n",
    "    # 대상자가 여러 명일 경우 개별적으로 저장\n",
    "    for target in addressees:\n",
    "        edge_list.append({'source': speaker, 'target': target, 'word_count': word_count, 'sentiment': sentiment})\n",
    "\n",
    "# 에지 데이터프레임 생성\n",
    "edges_data = pd.DataFrame(edge_list)\n",
    "\n",
    "# 파일 저장\n",
    "nodes_data.to_csv(\"nodes.csv\", index=False)\n",
    "edges_data.to_csv(\"edges.csv\", index=False)"
   ]
  },
  {
   "cell_type": "code",
   "execution_count": null,
   "metadata": {},
   "outputs": [],
   "source": [
    "# Google Colab 환경에서 생성된 CSV 파일을 로컬로 다운로드\n",
    "files.download(\"nodes.csv\")\n",
    "files.download(\"edges.csv\")"
   ]
  },
  {
   "cell_type": "markdown",
   "metadata": {
    "id": "1i9AoYCYfW__"
   },
   "source": [
    "# 시간정보 추가"
   ]
  },
  {
   "cell_type": "code",
   "execution_count": null,
   "metadata": {
    "colab": {
     "base_uri": "https://localhost:8080/",
     "height": 17
    },
    "id": "DaIcJD8MfWhw",
    "outputId": "03f0e752-5280-4182-e49f-a64363595357"
   },
   "outputs": [],
   "source": [
    "# 시간 정보가 포함된 에지 데이터 생성\n",
    "edge_list_time = []\n",
    "for _, row in data.iterrows():\n",
    "    speaker = row['speaker'] # 발화자\n",
    "    word_count = row['word_count'] # 단어 수\n",
    "    sentiment = row['sentiment'] # 감정 점수\n",
    "    timestamp = row['Timestamp']  # 대화 발생 시점\n",
    "\n",
    "    for target in row['addressees']:\n",
    "        edge_list_time.append({'source': speaker, 'target': target,\n",
    "                               'word_count': word_count, 'sentiment': sentiment,\n",
    "                               'timestamp': timestamp})\n",
    "\n",
    "# 데이터프레임 변환 및 저장\n",
    "edge_time_data = pd.DataFrame(edge_list_time)\n",
    "edge_time_data.to_csv(\"edges_with_time.csv\", index=False)"
   ]
  },
  {
   "cell_type": "code",
   "execution_count": null,
   "metadata": {},
   "outputs": [],
   "source": [
    "# Google Colab 환경에서 생성된 CSV 파일을 로컬로 다운로드\n",
    "files.download(\"edges_with_time.csv\")"
   ]
  },
  {
   "cell_type": "markdown",
   "metadata": {
    "id": "q-1JGTpQfgJN"
   },
   "source": [
    "# 연결망 분석 수행 및 시각화"
   ]
  },
  {
   "cell_type": "markdown",
   "metadata": {},
   "source": [
    "### 1. 그래프 기본 속성 설정"
   ]
  },
  {
   "cell_type": "code",
   "execution_count": 14,
   "metadata": {},
   "outputs": [],
   "source": [
    "# 네트워크 분석을 위한 라이브러리 로드\n",
    "import networkx as nx\n",
    "\n",
    "# 고정된 주요 노드 위치 설정\n",
    "fixed_positions = {\n",
    "    'Mr. Darcy': (-0.2, 0),\n",
    "    'Elizabeth': (0.2, 0)\n",
    "}\n",
    "\n",
    "# 노드 속성 설정\n",
    "G = nx.DiGraph()\n",
    "\n",
    "# 노드 추가 및 속성 설정\n",
    "for _, row in nodes_data.iterrows():\n",
    "    G.add_node(row['node_name'], size=row['total_word_count'], sentiment=row['average_sentiment'])\n",
    "\n",
    "# 에지 추가 및 속성 설정\n",
    "for _, row in edge_time_data.iterrows():\n",
    "    G.add_edge(row['source'], row['target'], weight=row['word_count'], sentiment=row['sentiment'])\n",
    "\n",
    "# 중심성 계산\n",
    "centrality = nx.degree_centrality(G)\n",
    "\n",
    "# 노드 크기 설정 (중심성에 따라 크기 조정)\n",
    "node_sizes = {node: 1000 + 5000 * centrality.get(node, 0) for node in G.nodes}"
   ]
  },
  {
   "cell_type": "markdown",
   "metadata": {},
   "source": [
    "### 2. 그래프 제작 함수 정의"
   ]
  },
  {
   "cell_type": "code",
   "execution_count": 15,
   "metadata": {},
   "outputs": [],
   "source": [
    "import matplotlib.pyplot as plt\n",
    "\n",
    "# 색상 단계 정의 (9단계의 색상 반환)\n",
    "def get_color(sentiment):\n",
    "    bins = [-1, -0.75, -0.5, -0.25, 0, 0.25, 0.5, 0.75, 1]\n",
    "    colors = ['#800000', '#B22222', '#DC143C', '#FF6347', '#FFD700',\n",
    "              '#ADFF2F', '#7FFF00', '#32CD32', '#006400']\n",
    "    for i in range(len(bins) - 1):\n",
    "        if bins[i] <= sentiment < bins[i + 1]:\n",
    "            return colors[i]\n",
    "    return '#808080'  # Default to gray\n",
    "\n",
    "# 레이아웃 설정 함수\n",
    "# 고정된 노드 위치를 유지하면서 나머지 노드에 대해 spring_layout 적용\n",
    "def get_layout(graph, node_sizes, fixed_positions=None):\n",
    "    if fixed_positions is None:\n",
    "        fixed_positions = {}\n",
    "\n",
    "    # 고정되지 않은 노드에 대해 spring_layout 적용\n",
    "    free_nodes = [node for node in graph.nodes if node not in fixed_positions]\n",
    "    free_layout = nx.spring_layout(graph.subgraph(free_nodes), seed=42, k=3 / len(graph.nodes) ** 0.5)\n",
    "\n",
    "    # 고정된 노드 병합\n",
    "    layout = {**free_layout, **fixed_positions}\n",
    "\n",
    "    # 노드 크기 반영 위치 조정\n",
    "    for node, (x, y) in layout.items():\n",
    "        layout[node] = (x * (1 + node_sizes.get(node, 1000) / 10000), y * (1 + node_sizes.get(node, 1000) / 10000))\n",
    "\n",
    "    return layout\n",
    "\n",
    "# 그래프 그리기 함수\n",
    "# 주어진 타임스탬프에 따라 그래프를 갱신\n",
    "def draw_graph(edges_at_timestamp, title):\n",
    "    # 그래프 초기화\n",
    "    plt.cla()\n",
    "\n",
    "    # 새로운 그래프 생성\n",
    "    G_frame = nx.DiGraph()\n",
    "\n",
    "    # 노드 크기와 색상 설정\n",
    "    for node in G.nodes:\n",
    "        G_frame.add_node(node, size=node_sizes.get(node, 1000), color='gray')\n",
    "\n",
    "    # 에지 추가 및 노드 색상 갱신\n",
    "    for _, row in edges_at_timestamp.iterrows():\n",
    "        # 에지 정보 추출\n",
    "        source = row['source']\n",
    "        target = row['target']\n",
    "        weight = row['word_count']\n",
    "        sentiment = row['sentiment']\n",
    "\n",
    "        # 노드 색상 갱신\n",
    "        if source in G_frame.nodes:\n",
    "            G_frame.nodes[source]['color'] = get_color(sentiment)\n",
    "        if target in G_frame.nodes:\n",
    "            G_frame.nodes[target]['color'] = get_color(sentiment)\n",
    "\n",
    "        # 에지 추가\n",
    "        G_frame.add_edge(source, target, weight=weight)\n",
    "\n",
    "    # 레이아웃 설정\n",
    "    dynamic_pos = get_layout(G_frame, node_sizes, fixed_positions)\n",
    "\n",
    "    node_colors = [G_frame.nodes[node]['color'] for node in G_frame.nodes]  # 노드 색상 설정\n",
    "    node_sizes_list = [G_frame.nodes[node]['size'] for node in G_frame.nodes]  # 노드 크기 설정\n",
    "    edge_widths = [min(5, max(0.5, G_frame[u][v]['weight'] / 10)) for u, v in G_frame.edges]  # 에지 width 설정\n",
    "\n",
    "    # 그래프 그리기\n",
    "    nx.draw(\n",
    "        G_frame, dynamic_pos, with_labels=True, node_color=node_colors, node_size=node_sizes_list,\n",
    "        edge_color='black', width=edge_widths, font_size=10\n",
    "    )\n",
    "    # 그래프 제목 설정\n",
    "    plt.title(title)\n",
    "\n"
   ]
  },
  {
   "cell_type": "markdown",
   "metadata": {},
   "source": [
    "### 3. 애니메이션 생성"
   ]
  },
  {
   "cell_type": "code",
   "execution_count": null,
   "metadata": {
    "colab": {
     "base_uri": "https://localhost:8080/",
     "height": 732
    },
    "id": "Onau1lA1fjsX",
    "outputId": "0f39ad50-e9f4-405f-9722-839244f97c58"
   },
   "outputs": [],
   "source": [
    "\n",
    "from matplotlib.animation import FuncAnimation\n",
    "\n",
    "# 동적 연결망 갱신 함수 (주어진 타임스탬프에 따라 그래프를 갱신)\n",
    "def update_graph(frame):\n",
    "    timestamp = timestamps[frame] # 현재 타임스탬프 선택\n",
    "    edges_at_timestamp = edge_time_data[edge_time_data['timestamp'] == timestamp] # 타임스탬프에 해당하는 에지만 선택\n",
    "    draw_graph(edges_at_timestamp, f\"Dynamic Network at Timestamp {timestamp}\")  # 그래프 그리기\n",
    "\n",
    "# 타임스탬프 기준으로 정렬\n",
    "timestamps = sorted(edge_time_data['timestamp'].unique())\n",
    "\n",
    "# 애니메이션 생성\n",
    "fig = plt.figure(figsize=(12, 8))\n",
    "anim = FuncAnimation(fig, update_graph, frames=len(timestamps), interval=500)\n",
    "\n",
    "# 애니메이션 저장\n",
    "anim.save('dynamic_network.mp4', writer='ffmpeg')\n",
    "\n",
    "# 최종 결과 표시\n",
    "plt.show()"
   ]
  },
  {
   "cell_type": "code",
   "execution_count": null,
   "metadata": {},
   "outputs": [],
   "source": [
    "# Google Colab 환경에서 생성된 MP4 파일을 로컬로 다운로드\n",
    "files.download(\"dynamic_network.mp4\")"
   ]
  },
  {
   "cell_type": "markdown",
   "metadata": {
    "id": "mKtsVW6UFfht"
   },
   "source": [
    "### 4. 스냅샷 그래프 파일 다운로드"
   ]
  },
  {
   "cell_type": "code",
   "execution_count": null,
   "metadata": {
    "colab": {
     "base_uri": "https://localhost:8080/",
     "height": 435
    },
    "id": "ECF-cXcld8v5",
    "outputId": "e68c35ec-a035-49a1-b50d-81662a374cd4"
   },
   "outputs": [],
   "source": [
    "import os\n",
    "import shutil\n",
    "from zipfile import ZipFile\n",
    "\n",
    "# 저장할 임시 디렉터리 생성\n",
    "output_dir = \"network_frames\"\n",
    "os.makedirs(output_dir, exist_ok=True)\n",
    "\n",
    "# 모든 타임스탬프별 그래프를 PNG로 저장\n",
    "for frame, timestamp in enumerate(timestamps):\n",
    "    # 타임스탬프에 해당하는 에지 데이터 선택\n",
    "    edges_at_timestamp = edge_time_data[edge_time_data['timestamp'] == timestamp]\n",
    "\n",
    "    # 새로운 그래프 생성\n",
    "    plt.figure(figsize=(12, 8)) \n",
    "\n",
    "    # 그래프 그리기\n",
    "    draw_graph(edges_at_timestamp, f\"Dynamic Network at Timestamp {timestamp}\")\n",
    "\n",
    "    # 파일 저장\n",
    "    filename = os.path.join(output_dir, f\"network_{frame:03d}.png\")\n",
    "\n",
    "    # 그래프 저장\n",
    "    plt.savefig(filename)\n",
    "    plt.close()\n",
    "\n",
    "# ZIP 파일로 압축\n",
    "zip_filepath = \"network_frames.zip\"\n",
    "with ZipFile(zip_filepath, 'w') as zipf:\n",
    "    for file in os.listdir(output_dir):\n",
    "        zipf.write(os.path.join(output_dir, file), arcname=file)\n",
    "\n",
    "# 임시 디렉터리 삭제\n",
    "shutil.rmtree(output_dir)"
   ]
  },
  {
   "cell_type": "code",
   "execution_count": null,
   "metadata": {},
   "outputs": [],
   "source": [
    "# Google Colab 환경에서 생성된 ZIP 파일을 로컬로 다운로드\n",
    "files.download(zip_filepath)"
   ]
  }
 ],
 "metadata": {
  "accelerator": "GPU",
  "colab": {
   "gpuType": "T4",
   "provenance": []
  },
  "kernelspec": {
   "display_name": "digi_human",
   "language": "python",
   "name": "python3"
  },
  "language_info": {
   "codemirror_mode": {
    "name": "ipython",
    "version": 3
   },
   "file_extension": ".py",
   "mimetype": "text/x-python",
   "name": "python",
   "nbconvert_exporter": "python",
   "pygments_lexer": "ipython3",
   "version": "3.11.13"
  }
 },
 "nbformat": 4,
 "nbformat_minor": 0
}
